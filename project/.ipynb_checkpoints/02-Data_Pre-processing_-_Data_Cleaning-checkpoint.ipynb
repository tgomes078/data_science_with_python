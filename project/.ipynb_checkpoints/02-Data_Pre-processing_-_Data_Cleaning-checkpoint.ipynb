{
 "cells": [
  {
   "cell_type": "markdown",
   "metadata": {},
   "source": [
    "# Data Cleaning\n",
    "\n",
    "### Tratamento de dados ausentes\n",
    "Iremos realizar tratamentos em conjunto de dados com o objetivo de preparar o conjunto de dados para ser aplicado aos modelos. Existem diversas maneiras de realizar tratamentos, iremos exemplificar alguns.\n",
    "\n",
    "### Removendo os dados\n",
    "A verificação dos valores ausentes (missing values) é o primeiro e o passo mais importante no pré-processamento de dados. Um modelo não poderá conter dados faltantes. Este método é um dos mais simples de se realizar. O benefício dessa abordagem é que ela é rápida e fácil de executar já a desvantagem é que você pode acabar perdendo informações importantes, porque está excluindo um recurso inteiro com base em alguns valores ausentes.\n",
    "\n",
    "#### Exercício 2: Removendo dados ausentes\n",
    "Utilizaremos uma base de campanhas de marketing que envolviam ligações telefônicas para os clientes tentando fazer com que eles se inscrevessem em um produto específico. Este conjunto de dados está relacionado à campanhas de marketing direto de uma instituição bancária portuguesa.\n",
    "\n",
    "---\n",
    "\n",
    "Importação da biblioteca Pandas para manipulação de dados de forma tabular."
   ]
  },
  {
   "cell_type": "code",
   "execution_count": 3,
   "metadata": {},
   "outputs": [],
   "source": [
    "import pandas as pd"
   ]
  },
  {
   "cell_type": "markdown",
   "metadata": {},
   "source": [
    "Incluindo o caminho do conjunto de dado em uma variáve chamada **dataset**."
   ]
  },
  {
   "cell_type": "code",
   "execution_count": 4,
   "metadata": {},
   "outputs": [],
   "source": [
    "dataset = '../source/Banking_Marketing.csv'"
   ]
  },
  {
   "cell_type": "markdown",
   "metadata": {},
   "source": [
    "Realizando a leitura do arquivo \"**_Banking_Marketing.csv_**\" e transformando em um DataFrame."
   ]
  },
  {
   "cell_type": "code",
   "execution_count": 5,
   "metadata": {},
   "outputs": [],
   "source": [
    "df = pd.read_csv(dataset, header=0)"
   ]
  },
  {
   "cell_type": "markdown",
   "metadata": {},
   "source": [
    "Impressão do tipo de dados de cada coluna com o comando **_dtypes_**."
   ]
  },
  {
   "cell_type": "code",
   "execution_count": 6,
   "metadata": {},
   "outputs": [
    {
     "data": {
      "text/plain": [
       "age               float64\n",
       "job                object\n",
       "marital            object\n",
       "education          object\n",
       "default            object\n",
       "housing            object\n",
       "loan               object\n",
       "contact            object\n",
       "month              object\n",
       "day_of_week        object\n",
       "duration          float64\n",
       "campaign            int64\n",
       "pdays               int64\n",
       "previous            int64\n",
       "poutcome           object\n",
       "emp_var_rate      float64\n",
       "cons_price_idx    float64\n",
       "cons_conf_idx     float64\n",
       "euribor3m         float64\n",
       "nr_employed       float64\n",
       "y                   int64\n",
       "dtype: object"
      ]
     },
     "execution_count": 6,
     "metadata": {},
     "output_type": "execute_result"
    }
   ],
   "source": [
    "df.dtypes"
   ]
  }
 ],
 "metadata": {
  "kernelspec": {
   "display_name": "Python 3",
   "language": "python",
   "name": "python3"
  },
  "language_info": {
   "codemirror_mode": {
    "name": "ipython",
    "version": 3
   },
   "file_extension": ".py",
   "mimetype": "text/x-python",
   "name": "python",
   "nbconvert_exporter": "python",
   "pygments_lexer": "ipython3",
   "version": "3.7.6"
  }
 },
 "nbformat": 4,
 "nbformat_minor": 4
}
