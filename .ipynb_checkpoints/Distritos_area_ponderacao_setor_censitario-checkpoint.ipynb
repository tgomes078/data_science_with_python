{
 "cells": [
  {
   "cell_type": "markdown",
   "metadata": {},
   "source": [
    "![Figura 01 - IBGE](https://upload.wikimedia.org/wikipedia/pt/8/8c/Ibge-logo.png)\n",
    "\n",
    "O Instituto Brasileiro de Geografia e Estatística (IBGE) é um instituto público da administração federal brasileira criado em 1934 e instalado em 1936 com o nome de Instituto Nacional de Estatística seu fundador e grande incentivador foi o estatístico Mário Augusto Teixeira de Freitas. O nome atual data de 1938. A sede do IBGE está localizada na cidade do Rio de Janeiro.\n",
    "\n",
    "O IBGE tem atribuições ligadas às geociências e estatísticas sociais, demográficas e econômicas, o que inclui realizar censos e organizar as informações obtidas nesses censos, para suprir órgãos das esferas governamentais federal, estadual e municipal, e para outras instituições e o público em geral.\n",
    "(https://pt.wikipedia.org/wiki/Instituto_Brasileiro_de_Geografia_e_Estat%C3%ADstica, 2020)."
   ]
  },
  {
   "cell_type": "markdown",
   "metadata": {},
   "source": [
    "## Objetivo\n",
    "\n",
    "Este trabalho tem como objetivo realizar estudos de casos utilizando as bases de dados do IBGE para possíveis correlações entre os dados analisados e dados de qualquer outra área de negócio da empresa. Nele encontramos as informações sobre quantidade da população por cada Distrito do Brasil, áreas de ponderação e setores censitários."
   ]
  },
  {
   "cell_type": "markdown",
   "metadata": {},
   "source": [
    "### Importação das bibliotecas"
   ]
  },
  {
   "cell_type": "code",
   "execution_count": 2,
   "metadata": {},
   "outputs": [],
   "source": [
    "import pandas as pd\n",
    "import requests\n",
    "import json\n",
    "import os\n",
    "import numpy as np\n",
    "from dbfread import DBF\n",
    "import re"
   ]
  },
  {
   "cell_type": "markdown",
   "metadata": {},
   "source": [
    "## Dados de Distritos\n",
    "\n",
    "Requisição dos dados de distritos a partir da API disponibilizada pelo IBGE no link: https://servicodados.ibge.gov.br/api/docs\n",
    "\n",
    "**Obs:** Obtém o conjunto de distritos do Brasil a partir dos respectivos identificadores"
   ]
  },
  {
   "cell_type": "code",
   "execution_count": 3,
   "metadata": {},
   "outputs": [],
   "source": [
    "try:\n",
    "    req_distritos = requests.get('https://servicodados.ibge.gov.br/api/v1/localidades/distritos')\n",
    "except:\n",
    "    print('Erro na conexão')\n",
    "    exit()"
   ]
  },
  {
   "cell_type": "markdown",
   "metadata": {},
   "source": [
    "Utilizando a biblioteca **json** para fazer a transformação da requisição em json."
   ]
  },
  {
   "cell_type": "code",
   "execution_count": 4,
   "metadata": {},
   "outputs": [],
   "source": [
    "dict_dados = json.loads(req_distritos.text)"
   ]
  },
  {
   "cell_type": "markdown",
   "metadata": {},
   "source": [
    "Os dados disponibilizados pela API estão em um formato de dicionário dentro de outros dicionários, tendo em vista este problema, foi criado uma função para desencadear o objeto e transformar em uma lista de listas."
   ]
  },
  {
   "cell_type": "code",
   "execution_count": 5,
   "metadata": {},
   "outputs": [],
   "source": [
    "def dict_for_list(dicionario):\n",
    "    lista_global = []\n",
    "    for i in range(0,len(dicionario)):\n",
    "        lista_local = []\n",
    "        for j in dicionario[i]:\n",
    "            if j != 'municipio':\n",
    "                lista_local.append(dicionario[i][j])\n",
    "            else:\n",
    "                for k in dicionario[i][j]:\n",
    "                    if k != 'microrregiao':\n",
    "                        lista_local.append(dicionario[i][j][k])\n",
    "                    else:\n",
    "                        for l in dicionario[i][j][k]:\n",
    "                            if l != 'mesorregiao':\n",
    "                                lista_local.append(dicionario[i][j][k][l])\n",
    "                            else:\n",
    "                                for m in dicionario[i][j][k][l]:\n",
    "                                    if m != 'UF':\n",
    "                                        lista_local.append(dicionario[i][j][k][l][m])\n",
    "                                    else:\n",
    "                                        for n in dicionario[i][j][k][l][m]:\n",
    "                                            if n != 'regiao':\n",
    "                                                lista_local.append(dicionario[i][j][k][l][m][n])\n",
    "                                            else:\n",
    "                                                for o in dicionario[i][j][k][l][m][n]:\n",
    "                                                    lista_local.append(dicionario[i][j][k][l][m][n][o])\n",
    "        lista_global.append(lista_local)\n",
    "    return lista_global"
   ]
  },
  {
   "cell_type": "code",
   "execution_count": 6,
   "metadata": {},
   "outputs": [],
   "source": [
    "columns_df_distritos = ['nu_distrito','no_distrito','nu_municipio','no_municipio','nu_microrregiao',\n",
    "                        'no_microrregiao','nu_mesorregiao','no_mesorregiao','nu_uf','sg_uf','no_uf',\n",
    "                        'nu_regiao','sg_regiao','no_regiao']\n",
    "\n",
    "df_distritos = pd.DataFrame(dict_for_list(dict_dados), columns=columns_df_distritos)"
   ]
  },
  {
   "cell_type": "markdown",
   "metadata": {},
   "source": [
    "## Área de Apuração\n",
    "\n",
    "Define-se área de ponderação como sendo uma unidade geográfica, formada por um agrupamento de setores censitários, para a aplicação dos procedimentos de calibração das estimativas com as informações\n",
    "conhecidas para a população como um todo.\n",
    "*(Censo Demográfico 2000. Agregado por Setores Censitários dos Resultados do\n",
    "Universo. Documentação do Arquivo. 2ª edição, Rio de Janeiro, 2003, 2011, p. 62).* \n",
    "\n",
    "Requisição dos dados sobre **Áreas de apuração** a partir da API SIDRA disponibilizada pelo IBGE no link:  http://api.sidra.ibge.gov.br/\n",
    " \n",
    " * Documentação para auxiliar na montagem da URL no link: http://api.sidra.ibge.gov.br/home/ajuda\n",
    " * Para identificar os números das tabelas ou códigos que representam as categorias foi utilizado o acervo da SIDRA"
   ]
  },
  {
   "cell_type": "code",
   "execution_count": 7,
   "metadata": {},
   "outputs": [],
   "source": [
    "try:\n",
    "    req_area_apuracao = requests.get('http://api.sidra.ibge.gov.br/values/t/1497/n18/all/v/allxp/p/all/f/a/h/y?formato=json')\n",
    "except:\n",
    "    print('Erro na conexão')\n",
    "    exit()"
   ]
  },
  {
   "cell_type": "markdown",
   "metadata": {},
   "source": [
    "Utilizando a biblioteca **json** para fazer a transformação da requisição em json."
   ]
  },
  {
   "cell_type": "code",
   "execution_count": 8,
   "metadata": {},
   "outputs": [],
   "source": [
    "dict_area_apuracao = json.loads(req_area_apuracao.text)"
   ]
  },
  {
   "cell_type": "markdown",
   "metadata": {},
   "source": [
    "Identificação das colunas do objeto json para utilizá-los nos nomes das colunas do DataFrame, posterior a isso, remoção da primeira linha dos dados."
   ]
  },
  {
   "cell_type": "code",
   "execution_count": 9,
   "metadata": {},
   "outputs": [
    {
     "data": {
      "text/plain": [
       "{'NC': 'Nível Territorial (Código)',\n",
       " 'NN': 'Nível Territorial',\n",
       " 'D1C': 'Área de Ponderação (Código)',\n",
       " 'D1N': 'Área de Ponderação',\n",
       " 'D2C': 'Variável (Código)',\n",
       " 'D2N': 'Variável',\n",
       " 'D3C': 'Ano (Código)',\n",
       " 'D3N': 'Ano',\n",
       " 'D4C': 'Nacionalidade (Código)',\n",
       " 'D4N': 'Nacionalidade',\n",
       " 'MC': 'Unidade de Medida (Código)',\n",
       " 'MN': 'Unidade de Medida',\n",
       " 'V': 'Valor'}"
      ]
     },
     "execution_count": 9,
     "metadata": {},
     "output_type": "execute_result"
    }
   ],
   "source": [
    "df_area_apuracao_columns = dict_area_apuracao[0]\n",
    "dict_area_apuracao.pop(0)"
   ]
  },
  {
   "cell_type": "markdown",
   "metadata": {},
   "source": [
    "Criação de duas listas 'values' e 'keys' para realizar a troca de nomes das colunas do DataFrame 'dict_area_apuracao'."
   ]
  },
  {
   "cell_type": "code",
   "execution_count": 10,
   "metadata": {},
   "outputs": [],
   "source": [
    "values = []\n",
    "keys =[]\n",
    "for i in df_area_apuracao_columns.values():\n",
    "    values.append(i)\n",
    "for i in df_area_apuracao_columns:\n",
    "    keys.append(i)"
   ]
  },
  {
   "cell_type": "markdown",
   "metadata": {},
   "source": [
    "Troca dos tipos de dados da colunas para inteiro."
   ]
  },
  {
   "cell_type": "code",
   "execution_count": 11,
   "metadata": {},
   "outputs": [],
   "source": [
    "df_area_apuracao = pd.DataFrame(dict_area_apuracao)\n",
    "df_area_apuracao = df_area_apuracao.astype({\"NC\": int,\"D1C\": int,\"D2C\": int,\"D3C\": int,\"D3N\": int,\"D4C\": int,\"MC\": int,\"V\": int})"
   ]
  },
  {
   "cell_type": "markdown",
   "metadata": {},
   "source": [
    "Iteração para realizar a troca de nomes das colunas."
   ]
  },
  {
   "cell_type": "code",
   "execution_count": null,
   "metadata": {},
   "outputs": [],
   "source": [
    "for i in range(len(keys)):\n",
    "    df_area_apuracao = area_apuracao.rename(columns={keys[i]: values[i]})"
   ]
  },
  {
   "cell_type": "markdown",
   "metadata": {},
   "source": [
    "## Setor Censitário\n",
    "\n",
    "O setor censitário é a unidade territorial estabelecida para fi ns de controle cadastral, formado por área contínua, situada em um único quadro urbano ou rural, com dimensão e número de domicílios que permitam o levantamento por um recenseador. Assim sendo, cada recenseador procederá à coleta de informações tendo como meta a cobertura do setor censitário que lhe é designado.\n",
    "(https://censo2010.ibge.gov.br/materiais/guia-do-censo/operacao-censitaria.html, 2020).\n",
    "\n",
    "Requisição dos dados sobre **Setor Censitário** a partir do FTP disponibilizado pelo IBGE no link:  ftp://geoftp.ibge.gov.br"
   ]
  },
  {
   "cell_type": "code",
   "execution_count": 12,
   "metadata": {},
   "outputs": [],
   "source": [
    "uf = ['ac','al','am','ap','ba','ce','df','es','go','ma','mg','ms','mt','pa',\n",
    "      'pb','pe','pi','pr','rj','rn','ro','rr','rs','sc','se','sp','to']\n",
    "\n",
    "for i in uf:\n",
    "    os.system(\"wget ftp://geoftp.ibge.gov.br/organizacao_do_territorio/malhas_territoriais/\\\n",
    "               malhas_de_setores_censitarios__divisoes_intramunicipais/censo_2010/\\\n",
    "               setores_censitarios_shp/\"+i+\"/\"+i+\"_setores_censitarios.zip\")"
   ]
  },
  {
   "cell_type": "markdown",
   "metadata": {},
   "source": [
    "Criação de um arquivo chamado 'uf.txt' com todos os nomes dos arquivos zipados para realizar a descompactação."
   ]
  },
  {
   "cell_type": "code",
   "execution_count": null,
   "metadata": {},
   "outputs": [],
   "source": [
    "!ls -ltr | grep '_setores_censitarios.zip' | awk '{print $9}' | cut -d\\_ -f1 > uf.txt"
   ]
  },
  {
   "cell_type": "markdown",
   "metadata": {},
   "source": [
    "Iteração para realizar a descompactação dos arquivos zipados criando uma pasta para cada arquivo."
   ]
  },
  {
   "cell_type": "code",
   "execution_count": null,
   "metadata": {},
   "outputs": [],
   "source": [
    "for i in uf:\n",
    "    os.system(\"unzip \"+i+\"_setores_censitarios.zip -d ./\"+i+\"_setores_censitarios\")"
   ]
  },
  {
   "cell_type": "markdown",
   "metadata": {},
   "source": [
    "Comando para encontrar todos os arquivos '*.dbf' para criar um arquivo com todos os nomes destes arquivos."
   ]
  },
  {
   "cell_type": "code",
   "execution_count": null,
   "metadata": {},
   "outputs": [],
   "source": [
    "!find . -name \"*.dbf\" > dbf.txt"
   ]
  },
  {
   "cell_type": "markdown",
   "metadata": {},
   "source": [
    "Abrir o arquivo dentro do Python com a lista de todos os nomes de arquivos .dbf."
   ]
  },
  {
   "cell_type": "code",
   "execution_count": null,
   "metadata": {},
   "outputs": [],
   "source": [
    "dbf = open(r'dbf.txt')"
   ]
  },
  {
   "cell_type": "markdown",
   "metadata": {},
   "source": [
    "Realizando a leitura de todos os nomes dentro do arquivo 'dbf.txt' e incluindo dentro de uma lista 'setor_censitario'."
   ]
  },
  {
   "cell_type": "code",
   "execution_count": null,
   "metadata": {},
   "outputs": [],
   "source": [
    "setor_censitario = []\n",
    "for i in dbf:\n",
    "    i = re.sub('\\n', '',i)\n",
    "    tabela = DBF(i, load=True, encoding='Windows-1258')\n",
    "    for j in range(len(tabela.records)):\n",
    "        setor_censitario.append(tabela.records[j].values())"
   ]
  },
  {
   "cell_type": "markdown",
   "metadata": {},
   "source": [
    "Transformando a lista 'setor_censitario' em um DataFrame."
   ]
  },
  {
   "cell_type": "code",
   "execution_count": null,
   "metadata": {},
   "outputs": [],
   "source": [
    "df_setor_censitario = pd.DataFrame(setor_censitario)"
   ]
  },
  {
   "cell_type": "markdown",
   "metadata": {},
   "source": [
    "## inclusão no banco de dados\n",
    "\n",
    "Ao terminar a criação dos três DataFrames, distritos, areas de prinderação e setor censitário, os dados poderão ser inseridos em uma base de dados. Neste notebook foi utilizado o banco MS SQL Server na versão 2016. \n",
    "\n",
    "Para realizar a conexão com o banco de dados foi utilizado a biblioteca 'pyodbc'."
   ]
  },
  {
   "cell_type": "code",
   "execution_count": null,
   "metadata": {},
   "outputs": [],
   "source": [
    "import pyodbc\n",
    "\n",
    "server = 'vm-powerbi' \n",
    "database = 'ibge' \n",
    "username = 'ibge' \n",
    "password = '@q1w2e3r4' \n",
    "cnxn = pyodbc.connect('DRIVER={ODBC Driver 17 for SQL Server};SERVER='+server+';DATABASE='+database+';UID='+username+';PWD='+ password)\n",
    "cursor = cnxn.cursor()"
   ]
  },
  {
   "cell_type": "markdown",
   "metadata": {},
   "source": [
    "Comando para ser executado dentro do banco de dados para verificar a existência da tabela de município, caso não exista o código realiza a criação da estrutura no banco de dados."
   ]
  },
  {
   "cell_type": "code",
   "execution_count": null,
   "metadata": {},
   "outputs": [],
   "source": [
    "cursor.execute(\"\"\"IF NOT EXISTS (SELECT * FROM sys.tables WHERE name='tb001_municipio')\n",
    "                      CREATE TABLE dbo.tb001_municipio (\n",
    "                       nu_distrito int null\n",
    "                       ,no_distrito varchar(50)\n",
    "                       ,nu_municipio int null\n",
    "                       ,no_municipio varchar(50)\n",
    "                       ,nu_microrregiao int null\n",
    "                       ,no_microrregiao varchar(50)\n",
    "                       ,nu_mesorregiao smallint null\n",
    "                       ,no_mesorregiao varchar(50)\n",
    "                       ,nu_uf smallint null\n",
    "                       ,sg_uf char(2)\n",
    "                       ,no_uf varchar(50)\n",
    "                       ,nu_regiao smallint null\n",
    "                       ,sg_regiao char(2)\n",
    "                       ,no_regiao varchar(50)\n",
    "                )\"\"\")\n",
    "cnxn.commit()"
   ]
  },
  {
   "cell_type": "markdown",
   "metadata": {},
   "source": [
    "Criando uma variável 'cols' recebendo todas as colunas do DataFrame 'df_distritos' para a realização do insert na tabela."
   ]
  },
  {
   "cell_type": "code",
   "execution_count": null,
   "metadata": {},
   "outputs": [],
   "source": [
    "cols = \",\".join([str(i) for i in df_distritos.columns.tolist()])\n",
    "\n",
    "for i,row in df_distritos.iterrows():\n",
    "    sql = \"INSERT INTO dbo.tb001_municipio(\" + cols + \") VALUES (\" + \"?,\"*(len(row)-1) + \"?)\"\n",
    "    cursor.execute(sql, tuple(row))\n",
    "cnxn.commit()"
   ]
  },
  {
   "cell_type": "markdown",
   "metadata": {},
   "source": [
    "Comando para ser executado dentro do banco de dados para verificar a existência da tabela de município, caso não exista o código realiza a criação da estrutura no banco de dados."
   ]
  },
  {
   "cell_type": "code",
   "execution_count": null,
   "metadata": {},
   "outputs": [],
   "source": [
    "cursor.execute(\"\"\"IF NOT EXISTS (SELECT * FROM sys.tables WHERE name='tb002_area_apuracao')\n",
    "                      CREATE TABLE dbo.tb002_area_apuracao (\n",
    "                        nu_nivel_territorial smallint null,\n",
    "                        no_nivel_territorial varchar(50) null,\n",
    "                        nu_area_ponderacao bigint null,\n",
    "                        no_area_ponderacao varchar(50) null,\n",
    "                        nu_variavel smallint null,\n",
    "                        no_variavel varchar(50) null,\n",
    "                        nu_ano smallint null,\n",
    "                        no_ano smallint null,\n",
    "                        nu_nacionalidade int null,\n",
    "                        no_nacionalidade varchar(50) null,\n",
    "                        nu_medida smallint null,\n",
    "                        no_medida varchar(50) null,\n",
    "                        qt_pessoa int null,\n",
    "                    )\"\"\")\n",
    "cnxn.commit()"
   ]
  },
  {
   "cell_type": "markdown",
   "metadata": {},
   "source": [
    "Criando uma variável 'cols' recebendo todas as colunas do DataFrame 'df_area_apuracao' para a realização do insert na tabela."
   ]
  },
  {
   "cell_type": "code",
   "execution_count": null,
   "metadata": {},
   "outputs": [],
   "source": [
    "cols = ['nu_nivel_territorial','no_nivel_territorial','nu_area_ponderacao','no_area_ponderacao',\n",
    "        'nu_variavel','no_variavel','nu_ano','no_ano','nu_nacionalidade','no_nacionalidade',\n",
    "        'nu_medida','no_medida','qt_pessoa']"
   ]
  },
  {
   "cell_type": "code",
   "execution_count": null,
   "metadata": {},
   "outputs": [],
   "source": [
    "for i,row in df_area_apuracao.iterrows():\n",
    "    sql = \"INSERT INTO dbo.tb002_area_apuracao(\" + cols + \") VALUES (\" + \"?,\"*(len(row)-1) + \"?)\"\n",
    "    #print(sql, tuple(row))\n",
    "    cursor.execute(sql, tuple(row))\n",
    "cnxn.commit()"
   ]
  },
  {
   "cell_type": "markdown",
   "metadata": {},
   "source": [
    "Comando para fechar a conexão com o banco de dados."
   ]
  },
  {
   "cell_type": "code",
   "execution_count": null,
   "metadata": {},
   "outputs": [],
   "source": [
    "cursor.close()"
   ]
  }
 ],
 "metadata": {
  "kernelspec": {
   "display_name": "Python 3",
   "language": "python",
   "name": "python3"
  },
  "language_info": {
   "codemirror_mode": {
    "name": "ipython",
    "version": 3
   },
   "file_extension": ".py",
   "mimetype": "text/x-python",
   "name": "python",
   "nbconvert_exporter": "python",
   "pygments_lexer": "ipython3",
   "version": "3.7.6"
  }
 },
 "nbformat": 4,
 "nbformat_minor": 4
}
