{
 "cells": [
  {
   "cell_type": "markdown",
   "metadata": {},
   "source": [
    "### Estudo para iniciantes em Data Science.\n",
    "\n",
    "Segundo o livro **Data Science with Python - Packt**, na parte de *_Roadmap for Building Machine Learning Models_*, exitem 5 (cinco) etapas principais para a construção de modelos de aprendizado de máquina.\n",
    "\n",
    "1 - Data Pre-processing  \n",
    "2 - Model Learning  \n",
    "3 - Model Evaluation - *_Hyperparameter optimization_*  \n",
    "4 - Prediction  \n",
    "5 - Model Deployment\n",
    "\n",
    "Variáveis\n",
    " - Independentes são usadas para prever a variável de destino,  elas devem ser independentes uma da outra. Se não estiverem, isso precisará ser resolvido no estágio de pré-processamento (limpeza).\n",
    "\n",
    "**NÃO** devem conter:\n",
    "* Valores ausentes ou *_NULL_*\n",
    "* Recursos de dados altamente categóricos ou alta cardinalidade\n",
    "* Outliers\n",
    "* Dados em diferentes escalas\n",
    "* Erro humano\n",
    "* Multicolinearidade (variáveis independentes correlacionadas)\n",
    "* Conjuntos de recursos independentes muito grandes (muitas variáveis independentes para serem gerenciáveis)\n",
    "* Dados esparsos\n",
    "* Caracteres especiais\n",
    "\n"
   ]
  },
  {
   "cell_type": "markdown",
   "metadata": {},
   "source": [
    "#### Exercício 01 - Carregando um conjunto de dados de amostra e criando a matriz de recursos e a matriz de destino.\n",
    "\n",
    "Para este primeiro exemplo, os dados que serão utilizados está disponibilizado no [link](https://github.com/TrainingByPackt/Data-Science-with-Python/blob/master/Chapter01/Data/USA_Housing.csv). O conjunto de dados **House_price_prediction** é obtido no Repositório de Aprendizado de Máquina da UCI - Universidade da Califórnia Irvine.\n",
    "\n",
    "Importação da biblioteca Pandas para manipulação de dados no formato tabular."
   ]
  },
  {
   "cell_type": "code",
   "execution_count": 1,
   "metadata": {},
   "outputs": [],
   "source": [
    "import pandas as pd"
   ]
  },
  {
   "cell_type": "code",
   "execution_count": 27,
   "metadata": {},
   "outputs": [],
   "source": [
    "df = pd.read_csv(\"USA_Housing.csv\", header = 0, encoding='UTF-8')"
   ]
  }
 ],
 "metadata": {
  "kernelspec": {
   "display_name": "Python 3",
   "language": "python",
   "name": "python3"
  },
  "language_info": {
   "codemirror_mode": {
    "name": "ipython",
    "version": 3
   },
   "file_extension": ".py",
   "mimetype": "text/x-python",
   "name": "python",
   "nbconvert_exporter": "python",
   "pygments_lexer": "ipython3",
   "version": "3.7.6"
  }
 },
 "nbformat": 4,
 "nbformat_minor": 4
}
